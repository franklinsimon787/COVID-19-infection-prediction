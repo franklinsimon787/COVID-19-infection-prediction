{
 "cells": [
  {
   "cell_type": "code",
   "execution_count": 1,
   "metadata": {},
   "outputs": [],
   "source": [
    "import numpy as np\n",
    "import pandas as pd\n",
    "from sklearn.linear_model import LogisticRegression"
   ]
  },
  {
   "cell_type": "code",
   "execution_count": 2,
   "metadata": {},
   "outputs": [
    {
     "data": {
      "text/html": [
       "<div>\n",
       "<style scoped>\n",
       "    .dataframe tbody tr th:only-of-type {\n",
       "        vertical-align: middle;\n",
       "    }\n",
       "\n",
       "    .dataframe tbody tr th {\n",
       "        vertical-align: top;\n",
       "    }\n",
       "\n",
       "    .dataframe thead th {\n",
       "        text-align: right;\n",
       "    }\n",
       "</style>\n",
       "<table border=\"1\" class=\"dataframe\">\n",
       "  <thead>\n",
       "    <tr style=\"text-align: right;\">\n",
       "      <th></th>\n",
       "      <th>fever</th>\n",
       "      <th>cough</th>\n",
       "      <th>breathing</th>\n",
       "      <th>tiredness</th>\n",
       "      <th>soreThroat</th>\n",
       "      <th>age</th>\n",
       "      <th>pain</th>\n",
       "      <th>runnyNose</th>\n",
       "      <th>infProb</th>\n",
       "    </tr>\n",
       "  </thead>\n",
       "  <tbody>\n",
       "    <tr>\n",
       "      <th>count</th>\n",
       "      <td>8270.000000</td>\n",
       "      <td>8270.000000</td>\n",
       "      <td>8270.000000</td>\n",
       "      <td>8270.000000</td>\n",
       "      <td>8270.000000</td>\n",
       "      <td>8270.000000</td>\n",
       "      <td>8270.000000</td>\n",
       "      <td>8270.000000</td>\n",
       "      <td>8270.000000</td>\n",
       "    </tr>\n",
       "    <tr>\n",
       "      <th>mean</th>\n",
       "      <td>102.022616</td>\n",
       "      <td>0.502418</td>\n",
       "      <td>-0.003023</td>\n",
       "      <td>0.506288</td>\n",
       "      <td>0.503869</td>\n",
       "      <td>50.088755</td>\n",
       "      <td>0.502177</td>\n",
       "      <td>0.501935</td>\n",
       "      <td>0.500846</td>\n",
       "    </tr>\n",
       "    <tr>\n",
       "      <th>std</th>\n",
       "      <td>2.328496</td>\n",
       "      <td>0.500024</td>\n",
       "      <td>0.817256</td>\n",
       "      <td>0.499991</td>\n",
       "      <td>0.500015</td>\n",
       "      <td>28.193565</td>\n",
       "      <td>0.500025</td>\n",
       "      <td>0.500026</td>\n",
       "      <td>0.500030</td>\n",
       "    </tr>\n",
       "    <tr>\n",
       "      <th>min</th>\n",
       "      <td>98.000162</td>\n",
       "      <td>0.000000</td>\n",
       "      <td>-1.000000</td>\n",
       "      <td>0.000000</td>\n",
       "      <td>0.000000</td>\n",
       "      <td>2.000000</td>\n",
       "      <td>0.000000</td>\n",
       "      <td>0.000000</td>\n",
       "      <td>0.000000</td>\n",
       "    </tr>\n",
       "    <tr>\n",
       "      <th>25%</th>\n",
       "      <td>99.996699</td>\n",
       "      <td>0.000000</td>\n",
       "      <td>-1.000000</td>\n",
       "      <td>0.000000</td>\n",
       "      <td>0.000000</td>\n",
       "      <td>25.000000</td>\n",
       "      <td>0.000000</td>\n",
       "      <td>0.000000</td>\n",
       "      <td>0.000000</td>\n",
       "    </tr>\n",
       "    <tr>\n",
       "      <th>50%</th>\n",
       "      <td>102.039858</td>\n",
       "      <td>1.000000</td>\n",
       "      <td>0.000000</td>\n",
       "      <td>1.000000</td>\n",
       "      <td>1.000000</td>\n",
       "      <td>50.000000</td>\n",
       "      <td>1.000000</td>\n",
       "      <td>1.000000</td>\n",
       "      <td>1.000000</td>\n",
       "    </tr>\n",
       "    <tr>\n",
       "      <th>75%</th>\n",
       "      <td>104.052881</td>\n",
       "      <td>1.000000</td>\n",
       "      <td>1.000000</td>\n",
       "      <td>1.000000</td>\n",
       "      <td>1.000000</td>\n",
       "      <td>75.000000</td>\n",
       "      <td>1.000000</td>\n",
       "      <td>1.000000</td>\n",
       "      <td>1.000000</td>\n",
       "    </tr>\n",
       "    <tr>\n",
       "      <th>max</th>\n",
       "      <td>105.999172</td>\n",
       "      <td>1.000000</td>\n",
       "      <td>1.000000</td>\n",
       "      <td>1.000000</td>\n",
       "      <td>1.000000</td>\n",
       "      <td>99.000000</td>\n",
       "      <td>1.000000</td>\n",
       "      <td>1.000000</td>\n",
       "      <td>1.000000</td>\n",
       "    </tr>\n",
       "  </tbody>\n",
       "</table>\n",
       "</div>"
      ],
      "text/plain": [
       "             fever        cough    breathing    tiredness   soreThroat  \\\n",
       "count  8270.000000  8270.000000  8270.000000  8270.000000  8270.000000   \n",
       "mean    102.022616     0.502418    -0.003023     0.506288     0.503869   \n",
       "std       2.328496     0.500024     0.817256     0.499991     0.500015   \n",
       "min      98.000162     0.000000    -1.000000     0.000000     0.000000   \n",
       "25%      99.996699     0.000000    -1.000000     0.000000     0.000000   \n",
       "50%     102.039858     1.000000     0.000000     1.000000     1.000000   \n",
       "75%     104.052881     1.000000     1.000000     1.000000     1.000000   \n",
       "max     105.999172     1.000000     1.000000     1.000000     1.000000   \n",
       "\n",
       "               age         pain    runnyNose      infProb  \n",
       "count  8270.000000  8270.000000  8270.000000  8270.000000  \n",
       "mean     50.088755     0.502177     0.501935     0.500846  \n",
       "std      28.193565     0.500025     0.500026     0.500030  \n",
       "min       2.000000     0.000000     0.000000     0.000000  \n",
       "25%      25.000000     0.000000     0.000000     0.000000  \n",
       "50%      50.000000     1.000000     1.000000     1.000000  \n",
       "75%      75.000000     1.000000     1.000000     1.000000  \n",
       "max      99.000000     1.000000     1.000000     1.000000  "
      ]
     },
     "execution_count": 2,
     "metadata": {},
     "output_type": "execute_result"
    }
   ],
   "source": [
    "df=pd.read_csv('coronadata.csv')\n",
    "\n",
    "df.describe()"
   ]
  },
  {
   "cell_type": "code",
   "execution_count": 3,
   "metadata": {},
   "outputs": [],
   "source": [
    "def data_split(data, ratio):\n",
    "    np.random.seed(42)\n",
    "    shuffled=np.random.permutation(len(data))\n",
    "    test_set_size=int(len(data) * ratio)\n",
    "    test_indices=shuffled[:test_set_size]\n",
    "    train_indices=shuffled[test_set_size:]\n",
    "    return data.iloc[train_indices], data.iloc[test_indices]\n",
    "\n",
    "train,test=data_split(df,0.2)"
   ]
  },
  {
   "cell_type": "code",
   "execution_count": 4,
   "metadata": {},
   "outputs": [],
   "source": [
    "X_train= train[['age','fever','cough','breathing','tiredness','soreThroat','pain','runnyNose']].to_numpy()\n",
    "X_test= test[['age','fever','cough','breathing','tiredness','soreThroat','pain','runnyNose']].to_numpy()\n",
    "y_train=train[['infProb']].to_numpy().reshape(6616 ,)\n",
    "y_test=test[['infProb']].to_numpy().reshape(1654 ,)"
   ]
  },
  {
   "cell_type": "code",
   "execution_count": 5,
   "metadata": {},
   "outputs": [
    {
     "name": "stderr",
     "output_type": "stream",
     "text": [
      "C:\\ProgramData\\Anaconda3\\lib\\site-packages\\sklearn\\linear_model\\logistic.py:433: FutureWarning: Default solver will be changed to 'lbfgs' in 0.22. Specify a solver to silence this warning.\n",
      "  FutureWarning)\n"
     ]
    },
    {
     "data": {
      "text/plain": [
       "LogisticRegression(C=1.0, class_weight=None, dual=False, fit_intercept=True,\n",
       "          intercept_scaling=1, max_iter=100, multi_class='warn',\n",
       "          n_jobs=None, penalty='l2', random_state=None, solver='warn',\n",
       "          tol=0.0001, verbose=0, warm_start=False)"
      ]
     },
     "execution_count": 5,
     "metadata": {},
     "output_type": "execute_result"
    }
   ],
   "source": [
    "clf = LogisticRegression()\n",
    "clf.fit(X_train, y_train)\n"
   ]
  },
  {
   "cell_type": "code",
   "execution_count": 8,
   "metadata": {},
   "outputs": [
    {
     "name": "stdout",
     "output_type": "stream",
     "text": [
      "insert patient data from the given list\n",
      "1.Age \n",
      " 2. fever(in temperature) \n",
      " 3.cough(in scale 0,1) \n",
      " 4.breathing(in scale of -1(normal),0(shortness of breath),1(difficult breath) \n",
      " 5.Tiredness(in scale 0,1) \n",
      " 6.Sore Throat(in scale 0,1) \n",
      " 7.Body pain(in scale 0,1) \n",
      " 8.Runny Nose(in scale 0,1)\n",
      "\n",
      "8 96 1 0 1 0 0 0\n",
      "0.5227082127915422 % chance you have Corona\n"
     ]
    }
   ],
   "source": [
    "print('insert patient data from the given list')\n",
    "print('1.Age \\n 2. fever(in temperature) \\n 3.cough(in scale 0,1) \\n 4.breathing(in scale of -1(normal),0(shortness of breath),1(difficult breath) \\n 5.Tiredness(in scale 0,1) \\n 6.Sore Throat(in scale 0,1) \\n 7.Body pain(in scale 0,1) \\n 8.Runny Nose(in scale 0,1)\\n')\n",
    "enterie= list(map(int,input().split()))\n",
    "infProb=clf.predict_proba([enterie])[0][1]\n",
    "\n",
    "print(infProb,'% chance you have Corona')"
   ]
  },
  {
   "cell_type": "code",
   "execution_count": null,
   "metadata": {},
   "outputs": [],
   "source": []
  }
 ],
 "metadata": {
  "kernelspec": {
   "display_name": "Python 3",
   "language": "python",
   "name": "python3"
  },
  "language_info": {
   "codemirror_mode": {
    "name": "ipython",
    "version": 3
   },
   "file_extension": ".py",
   "mimetype": "text/x-python",
   "name": "python",
   "nbconvert_exporter": "python",
   "pygments_lexer": "ipython3",
   "version": "3.7.3"
  }
 },
 "nbformat": 4,
 "nbformat_minor": 2
}
